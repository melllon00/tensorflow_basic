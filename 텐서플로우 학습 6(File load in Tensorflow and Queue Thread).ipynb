{
 "cells": [
  {
   "cell_type": "markdown",
   "metadata": {},
   "source": [
    "## 학습 6\n",
    "\n",
    "## 텐서플로우 학습 6(File load in Tensorflow and Queue Thread)\n",
    "\n",
    "**출처 ** <br>\n",
    "- https://www.youtube.com/watch?v=rxgvKa0MdK4"
   ]
  },
  {
   "cell_type": "code",
   "execution_count": 1,
   "metadata": {
    "collapsed": true
   },
   "outputs": [],
   "source": [
    "import tensorflow as tf"
   ]
  },
  {
   "cell_type": "markdown",
   "metadata": {},
   "source": [
    "<br><br>** 아래와 같은 내용으로 test.csv 파일을 하나 생성한다. **\n",
    "\n",
    "10, 20, 30, 40, 50, <br>\n",
    "1, 2, 3, 4, 5 <br>\n",
    "2, 4, 6, 8, 10<br><br>\n",
    "\n",
    "** 해당 파일을 생성한 경로를 아래와 같은 함수를 통하여 넣어준다 **\n",
    "\n",
    "해당 파일 queue에 넣어준다. 레코드(가로) 기준으로"
   ]
  },
  {
   "cell_type": "code",
   "execution_count": 2,
   "metadata": {
    "collapsed": false
   },
   "outputs": [
    {
     "data": {
      "text/plain": [
       "<tensorflow.python.ops.data_flow_ops.FIFOQueue at 0x7f444cf93e48>"
      ]
     },
     "execution_count": 2,
     "metadata": {},
     "output_type": "execute_result"
    }
   ],
   "source": [
    "filename_queue = tf.train.string_input_producer(['data/test.csv'])\n",
    "filename_queue"
   ]
  },
  {
   "cell_type": "markdown",
   "metadata": {},
   "source": [
    "<br>** reader 는 레코드를 읽는 역할을 한다.  **"
   ]
  },
  {
   "cell_type": "code",
   "execution_count": 3,
   "metadata": {
    "collapsed": false
   },
   "outputs": [
    {
     "data": {
      "text/plain": [
       "<tensorflow.python.ops.io_ops.TextLineReader at 0x7f4443191a90>"
      ]
     },
     "execution_count": 3,
     "metadata": {},
     "output_type": "execute_result"
    }
   ],
   "source": [
    "reader = tf.TextLineReader()\n",
    "reader"
   ]
  },
  {
   "cell_type": "code",
   "execution_count": 4,
   "metadata": {
    "collapsed": false
   },
   "outputs": [
    {
     "name": "stdout",
     "output_type": "stream",
     "text": [
      "Tensor(\"ReaderRead:0\", shape=(), dtype=string)   /   Tensor(\"ReaderRead:1\", shape=(), dtype=string)\n"
     ]
    }
   ],
   "source": [
    "key, value = reader.read(filename_queue)\n",
    "print(key, '  /  ', value)"
   ]
  },
  {
   "cell_type": "markdown",
   "metadata": {},
   "source": [
    "<br>\n",
    "** 값이 비어 있을 때, 넣어주는 record_defaults **\n",
    "\n",
    "레코드에서 값이 비어있는 컬럼이 있으면, 해당 위치의 값을 채우는 역할! "
   ]
  },
  {
   "cell_type": "code",
   "execution_count": 5,
   "metadata": {
    "collapsed": true
   },
   "outputs": [],
   "source": [
    "record_defaults = [[1],[1],[1],[1],[1]]"
   ]
  },
  {
   "cell_type": "markdown",
   "metadata": {},
   "source": [
    "<br>\n",
    "** 레코드를 읽어서 각각의 컬럼 변수에 넣어준다. **\n"
   ]
  },
  {
   "cell_type": "code",
   "execution_count": 6,
   "metadata": {
    "collapsed": true
   },
   "outputs": [],
   "source": [
    "col1, col2, col3, col4, col5 = tf.decode_csv(value, record_defaults=record_defaults)"
   ]
  },
  {
   "cell_type": "code",
   "execution_count": 7,
   "metadata": {
    "collapsed": false
   },
   "outputs": [
    {
     "data": {
      "text/plain": [
       "<tf.Tensor 'DecodeCSV:0' shape=() dtype=int32>"
      ]
     },
     "execution_count": 7,
     "metadata": {},
     "output_type": "execute_result"
    }
   ],
   "source": [
    "col1"
   ]
  },
  {
   "cell_type": "markdown",
   "metadata": {},
   "source": [
    "<br>\n",
    "** 분리된 컬럼을 하나로 합친다  **\n"
   ]
  },
  {
   "cell_type": "code",
   "execution_count": 8,
   "metadata": {
    "collapsed": false
   },
   "outputs": [
    {
     "data": {
      "text/plain": [
       "<tf.Tensor 'pack:0' shape=(5,) dtype=int32>"
      ]
     },
     "execution_count": 8,
     "metadata": {},
     "output_type": "execute_result"
    }
   ],
   "source": [
    "features = tf.pack([col1, col2, col3, col4, col5])\n",
    "features"
   ]
  },
  {
   "cell_type": "markdown",
   "metadata": {},
   "source": [
    "<br>\n",
    "** 세션을 진행한다. with 을 사용하면 따로 sess를 종료하지 않아줘도 들여쓰기가 끝나는 구간에서 종료한다.  **\n",
    "\n",
    "- queue_runner는 실제 thread queue를 실행시켜준다. \n",
    "- Coordinator()는 thread queue 의 on / off 스위치 역할 "
   ]
  },
  {
   "cell_type": "code",
   "execution_count": 12,
   "metadata": {
    "collapsed": false
   },
   "outputs": [
    {
     "name": "stdout",
     "output_type": "stream",
     "text": [
      "[10 20 30 40 50 60 70 80 90]\n",
      "50\n",
      "[1 2 3 4 5 6 7 8 9]\n",
      "5\n",
      "[ 2  4  6  8 10 12 14 16 18]\n",
      "10\n"
     ]
    }
   ],
   "source": [
    "with tf.Session() as sess: \n",
    "    coord = tf.train.Coordinator()\n",
    "    threads = tf.train.start_queue_runners(coord= coord)\n",
    "    \n",
    "    for i in range(3):\n",
    "        example, label = sess.run([features, col5]) \n",
    "        print (example)\n",
    "        print (label)\n",
    "        \n",
    "    coord.request_stop()\n",
    "    coord.join(threads)"
   ]
  },
  {
   "cell_type": "code",
   "execution_count": 10,
   "metadata": {
    "collapsed": false
   },
   "outputs": [
    {
     "name": "stdout",
     "output_type": "stream",
     "text": [
      "example :  [ 2  4  6  8 10]\n",
      "label :  10\n"
     ]
    }
   ],
   "source": [
    "print( 'example : ', example )\n",
    "print( 'label : ', label )"
   ]
  },
  {
   "cell_type": "markdown",
   "metadata": {},
   "source": [
    "### pack() 은 여러 컬럼을 하나로 합쳐주는 역할을 한다 "
   ]
  },
  {
   "cell_type": "markdown",
   "metadata": {},
   "source": [
    "** 아래와 같은 내용으로 test2.csv 파일을 하나 생성한다. **\n",
    "\n",
    "10, 20, 30, 40, 50, 60, 70, 80, 90 <br>\n",
    "1, 2, 3, 4, 5, 6 ,7 , 8, 9 <br>\n",
    "2, 4, 6, 8, 10, 12, 14, 16 , 18<br>"
   ]
  },
  {
   "cell_type": "code",
   "execution_count": 11,
   "metadata": {
    "collapsed": false
   },
   "outputs": [
    {
     "name": "stdout",
     "output_type": "stream",
     "text": [
      "[10 20 30 40 50 60 70 80 90]\n",
      "90\n",
      "[1 2 3 4 5 6 7 8 9]\n",
      "9\n",
      "[ 2  4  6  8 10 12 14 16 18]\n",
      "18\n"
     ]
    }
   ],
   "source": [
    "import tensorflow as tf\n",
    "\n",
    "filename_queue = tf.train.string_input_producer(['data/test2.csv'])\n",
    "reader = tf.TextLineReader() \n",
    "key, value = reader.read(filename_queue) \n",
    "record_defaults = [[1],[1],[1],[1],[1],[1],[1],[1],[1]]\n",
    "col1, col2, col3, col4, col5, col6, col7, col8, col9 = tf.decode_csv(value, record_defaults=record_defaults)\n",
    "features = tf.pack([col1, col2, col3, col4, col5, col6, col7, col8, col9])\n",
    "\n",
    "with tf.Session() as sess: \n",
    "    coord = tf.train.Coordinator()\n",
    "    threads = tf.train.start_queue_runners(coord= coord)\n",
    "    \n",
    "    for i in range(3):\n",
    "        example, label = sess.run([features, col9])\n",
    "        \n",
    "        print (example)\n",
    "        print (label)\n",
    "        \n",
    "    coord.request_stop()\n",
    "    coord.join(threads)"
   ]
  },
  {
   "cell_type": "markdown",
   "metadata": {},
   "source": [
    "<br><br><br><br><br><br>"
   ]
  },
  {
   "cell_type": "code",
   "execution_count": null,
   "metadata": {
    "collapsed": true
   },
   "outputs": [],
   "source": []
  },
  {
   "cell_type": "code",
   "execution_count": null,
   "metadata": {
    "collapsed": true
   },
   "outputs": [],
   "source": []
  },
  {
   "cell_type": "code",
   "execution_count": null,
   "metadata": {
    "collapsed": true
   },
   "outputs": [],
   "source": []
  },
  {
   "cell_type": "code",
   "execution_count": null,
   "metadata": {
    "collapsed": true
   },
   "outputs": [],
   "source": []
  },
  {
   "cell_type": "code",
   "execution_count": null,
   "metadata": {
    "collapsed": true
   },
   "outputs": [],
   "source": []
  }
 ],
 "metadata": {
  "kernelspec": {
   "display_name": "Python 3",
   "language": "python",
   "name": "python3"
  },
  "language_info": {
   "codemirror_mode": {
    "name": "ipython",
    "version": 3
   },
   "file_extension": ".py",
   "mimetype": "text/x-python",
   "name": "python",
   "nbconvert_exporter": "python",
   "pygments_lexer": "ipython3",
   "version": "3.5.2"
  }
 },
 "nbformat": 4,
 "nbformat_minor": 2
}
